{
 "cells": [
  {
   "cell_type": "markdown",
   "metadata": {},
   "outputs": [],
   "source": [
    "## 3D CNN Model"
   ]
  },
  {
   "cell_type": "code",
   "execution_count": 1,
   "metadata": {},
   "outputs": [],
   "source": [
    "import sys\n",
    "sys.path.append('./src')\n",
    "from config import *"
   ]
  },
  {
   "cell_type": "code",
   "execution_count": 12,
   "metadata": {
    "scrolled": true
   },
   "outputs": [],
   "source": [
    "import mPyPl as mp\n",
    "import mPyPl as mp\n",
    "import mPyPl.utils.image as mpui\n",
    "from mpyplx import *\n",
    "from pipe import Pipe\n",
    "from moviepy.editor import *\n",
    "import numpy as np\n",
    "import itertools\n",
    "import cv2\n",
    "import math\n",
    "import matplotlib.pyplot as plt\n",
    "import keras\n",
    "from keras.models import Sequential\n",
    "from keras.layers import *\n",
    "from keras.regularizers import l2\n",
    "import matplotlib.pyplot as plt"
   ]
  },
  {
   "cell_type": "code",
   "execution_count": 3,
   "metadata": {},
   "outputs": [],
   "source": [
    "classes = mp.get_classes(data_dir)\n",
    "print(classes)\n",
    "classes = { 'noshot' : 0, 'shots': 1}\n",
    "print(classes)"
   ]
  },
  {
   "cell_type": "code",
   "execution_count": 4,
   "metadata": {},
   "outputs": [],
   "source": [
    "data = (\n",
    "   mp.get_datastream(data_dir,classes=classes,ext=\".resized.mp4\")\n",
    " | mp.pshuffle\n",
    " | mp.datasplit(split_param='split.txt')\n",
    " | mp.apply(['split','class_id'],'descr',lambda x: \"{}-{}\".format(x[0],x[1]))\n",
    " | summarize('descr')\n",
    " | mp.as_list)"
   ]
  },
  {
   "cell_type": "code",
   "execution_count": 5,
   "metadata": {},
   "outputs": [],
   "source": [
    "def printf(x,y):\n",
    "    print(x)\n",
    "    return y"
   ]
  },
  {
   "cell_type": "code",
   "execution_count": 6,
   "metadata": {},
   "outputs": [],
   "source": [
    "no_frames = 126\n",
    "data_vgg = (data\n",
    " | mp.apply('filename','vgg',lambda x: np.load(x.replace('.resized.mp4','.vgg.npy')),eval_strategy=mp.EvalStrategies.LazyMemoized)\n",
    " | mp.apply('vgg','vggflat',lambda x: np.reshape(x,(no_frames,-1,512,1)),eval_strategy=mp.EvalStrategies.LazyMemoized)\n",
    " | mp.as_list\n",
    ")"
   ]
  },
  {
   "cell_type": "code",
   "execution_count": 7,
   "metadata": {},
   "outputs": [],
   "source": [
    "trainstream, valstream = data_vgg | mp.make_train_test_split\n",
    "no_train = data | mp.filter('split',lambda x: x==mp.SplitType.Train) | mp.count\n",
    "no_test = data | mp.filter('split',lambda x: x==mp.SplitType.Test) | mp.count\n",
    "print(\"Train={}, Test={}\".format(no_train,no_test))"
   ]
  },
  {
   "cell_type": "code",
   "execution_count": 8,
   "metadata": {},
   "outputs": [],
   "source": [
    "print(data_vgg[0]['vggflat'].shape)\n",
    "print(data_vgg[2]['class_id'])"
   ]
  },
  {
   "cell_type": "code",
   "execution_count": 9,
   "metadata": {},
   "outputs": [],
   "source": [
    "batchsize=16\n",
    "\n",
    "model = Sequential()\n",
    "model.add(AveragePooling3D((6,1,12),input_shape=(no_frames, 32, 512, 1)))\n",
    "model.add(Conv3D(8, (3, 3, 3), data_format='channels_last',activation='relu',kernel_initializer='glorot_uniform',kernel_regularizer=l2(0.01)))\n",
    "model.add(AveragePooling3D((2, 2, 2)))\n",
    "model.add(Conv3D(16, (3, 3, 3) ,activation='relu',kernel_initializer='glorot_uniform',kernel_regularizer=l2(0.01)))\n",
    "model.add(AveragePooling3D((2, 2, 2)))\n",
    "model.add(Flatten())\n",
    "model.add(Dropout(0.5))\n",
    "model.add(Dense(20,activation='relu',kernel_initializer='glorot_uniform',kernel_regularizer=l2(0.01)))\n",
    "model.add(Dense(1,activation='sigmoid',kernel_initializer='glorot_uniform',kernel_regularizer=l2(0.01)))\n",
    "\n",
    "model.compile(loss='binary_crossentropy',\n",
    "              optimizer=keras.optimizers.Adam(lr=0.001),\n",
    "              metrics=['acc'])\n",
    "model.summary()"
   ]
  },
  {
   "cell_type": "code",
   "execution_count": 10,
   "metadata": {},
   "outputs": [],
   "source": [
    "history = model.fit_generator(\n",
    "      trainstream | mp.infshuffle |  mp.as_batch('vggflat', 'class_id', batchsize=batchsize),\n",
    "      steps_per_epoch=no_train // batchsize,\n",
    "      validation_data= valstream | mp.infshuffle | mp.as_batch('vggflat', 'class_id', batchsize=batchsize),\n",
    "      validation_steps = no_test // batchsize,\n",
    "      epochs=10)"
   ]
  },
  {
   "cell_type": "code",
   "execution_count": 13,
   "metadata": {},
   "outputs": [],
   "source": [
    "plt.plot(history.history['acc'])\n",
    "plt.plot(history.history['val_acc'])"
   ]
  },
  {
   "cell_type": "code",
   "execution_count": 11,
   "metadata": {},
   "outputs": [],
   "source": [
    "model.save('..\\models\\\\vgg_3dcnn_model.hdf5')"
   ]
  },
  {
   "cell_type": "code",
   "execution_count": 2,
   "metadata": {},
   "outputs": [],
   "source": [
    "import pickle\n",
    "with open('..\\models\\\\vgg_3dcnn_model.history.pkl','wb') as f:\n",
    "          pickle.dump(history,f)"
   ]
  },
  {
   "cell_type": "code",
   "execution_count": null,
   "metadata": {},
   "outputs": [],
   "source": []
  }
 ],
 "metadata": {
  "kernelspec": {
   "display_name": "Python 3",
   "language": "python",
   "name": "python3"
  },
  "language_info": {
   "codemirror_mode": {
    "name": "ipython",
    "version": 3
   },
   "file_extension": ".py",
   "mimetype": "text/x-python",
   "name": "python",
   "nbconvert_exporter": "python",
   "pygments_lexer": "ipython3",
   "version": "3.6.5"
  }
 },
 "nbformat": 4,
 "nbformat_minor": 2
}