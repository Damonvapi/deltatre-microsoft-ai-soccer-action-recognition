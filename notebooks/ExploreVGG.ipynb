{
 "cells": [
  {
   "cell_type": "code",
   "execution_count": 2,
   "metadata": {},
   "outputs": [],
   "source": [
    "import sys\n",
    "sys.path.append('./src')\n",
    "from config import *"
   ]
  },
  {
   "cell_type": "code",
   "execution_count": 3,
   "metadata": {
    "scrolled": true
   },
   "outputs": [],
   "source": [
    "import mPyPl as mp\n",
    "import mPyPl as mp\n",
    "import mPyPl.utils.image as mpui\n",
    "from mpyplx import *\n",
    "from pipe import Pipe\n",
    "from moviepy.editor import *\n",
    "import numpy as np\n",
    "import itertools\n",
    "import cv2\n",
    "import math\n",
    "import matplotlib.pyplot as plt\n",
    "import keras"
   ]
  },
  {
   "cell_type": "code",
   "execution_count": 1,
   "metadata": {},
   "outputs": [],
   "source": [
    "def close_clip(video):\n",
    "    video.reader.close()\n",
    "    video.audio.reader.close_proc()"
   ]
  },
  {
   "cell_type": "code",
   "execution_count": 34,
   "metadata": {},
   "outputs": [],
   "source": [
    "classes = mp.get_classes(data_dir)\n",
    "print(classes)"
   ]
  },
  {
   "cell_type": "code",
   "execution_count": 28,
   "metadata": {},
   "outputs": [],
   "source": [
    "data = {}\n",
    "for cls in [0,1]:\n",
    "    data[cls] = (\n",
    "       mp.get_datastream(data_dir,ext=\".resized.mp4\")\n",
    "     | mp.filter('class_id',lambda x: x==cls)\n",
    "     | mp.take(5)\n",
    "     | mp.apply('filename','clip',lambda fn: VideoFileClip(fn).fx(vfx.resize,width=64))\n",
    "     | mp.apply('clip','video',lambda c: np.array(list(c.iter_frames())))\n",
    "     | mp.iter('clip',close_clip)\n",
    "     | mp.select_field('video')\n",
    "     | mp.as_list\n",
    "    )"
   ]
  },
  {
   "cell_type": "code",
   "execution_count": 29,
   "metadata": {},
   "outputs": [],
   "source": [
    "mpui.show_images([x[0] for x in data[0]])\n",
    "mpui.show_images([x[0] for x in data[1]])"
   ]
  },
  {
   "cell_type": "code",
   "execution_count": 14,
   "metadata": {},
   "outputs": [],
   "source": [
    "vgg = keras.applications.vgg16.VGG16(include_top=False,weights='imagenet',input_shape=(36,64,3))\n",
    "\n",
    "def get_vgg(video):\n",
    "    res = vgg.predict(keras.applications.vgg16.preprocess_input(video))\n",
    "    return res"
   ]
  },
  {
   "cell_type": "code",
   "execution_count": 15,
   "metadata": {},
   "outputs": [],
   "source": []
  },
  {
   "cell_type": "code",
   "execution_count": 30,
   "metadata": {},
   "outputs": [],
   "source": [
    "vggs = {}\n",
    "for cls in [0,1]:\n",
    "    vggs[cls] = [get_vgg(x).reshape(127,-1) for x in data[cls]]"
   ]
  },
  {
   "cell_type": "code",
   "execution_count": 31,
   "metadata": {},
   "outputs": [],
   "source": [
    "mpui.show_images(vggs[0],cols=5)\n",
    "mpui.show_images(vggs[1],cols=5)"
   ]
  },
  {
   "cell_type": "code",
   "execution_count": null,
   "metadata": {},
   "outputs": [],
   "source": []
  }
 ],
 "metadata": {
  "kernelspec": {
   "display_name": "Python 3",
   "language": "python",
   "name": "python3"
  },
  "language_info": {
   "codemirror_mode": {
    "name": "ipython",
    "version": 3
   },
   "file_extension": ".py",
   "mimetype": "text/x-python",
   "name": "python",
   "nbconvert_exporter": "python",
   "pygments_lexer": "ipython3",
   "version": "3.5.5"
  }
 },
 "nbformat": 4,
 "nbformat_minor": 2
}