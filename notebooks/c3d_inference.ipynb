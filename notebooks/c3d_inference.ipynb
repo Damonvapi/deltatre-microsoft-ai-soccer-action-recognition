{
 "cells": [
  {
   "cell_type": "code",
   "execution_count": 2,
   "metadata": {},
   "outputs": [],
   "source": [
    "import matplotlib.pyplot as plt\n",
    "import glob\n",
    "import os\n",
    "import mPyPl as mp\n",
    "from pipe import *\n",
    "from moviepy.editor import *\n",
    "import numpy as np\n",
    "import cv2"
   ]
  },
  {
   "cell_type": "code",
   "execution_count": 3,
   "metadata": {},
   "outputs": [],
   "source": [
    "def close_clip(video):\n",
    "    video.reader.close()\n",
    "    video.audio.reader.close_proc()\n",
    "    \n",
    "    \n",
    "def select_frames(video, target_num_frames):\n",
    "    num_frames = video.shape[0]\n",
    "    stride = num_frames // (target_num_frames - 1)\n",
    "    return video[::stride]\n",
    "    \n",
    "\n",
    "def pad_video(video):\n",
    "    height = video.shape[1]\n",
    "    width = video.shape[2]\n",
    "    target_size = width\n",
    "    remainder = height % 2\n",
    "    top = (target_size - height) // 2\n",
    "    bottom = top + remainder\n",
    "    left = 0\n",
    "    right = 0\n",
    "    \n",
    "    if height > width:\n",
    "        target_size = height        \n",
    "        remainder = width % 2\n",
    "        top = 0\n",
    "        bottom = 0\n",
    "        left = (target_size - width) // 2\n",
    "        right = left + remainder\n",
    "    \n",
    "    target_shape = (video.shape[0], target_size, target_size, video.shape[3])\n",
    "    \n",
    "    output = np.zeros(target_shape, dtype=video.dtype)   \n",
    "        \n",
    "    for idx in range(video.shape[0]):\n",
    "        output[idx] = cv2.copyMakeBorder(\n",
    "            video[idx],\n",
    "            top, bottom, left, right,\n",
    "            cv2.BORDER_CONSTANT,\n",
    "            value=0\n",
    "        )\n",
    "    return output"
   ]
  },
  {
   "cell_type": "code",
   "execution_count": 85,
   "metadata": {},
   "outputs": [],
   "source": [
    "INPUTS_DIR = \"X:\\data\" \n",
    "classes = { 'shots' : 1 }\n",
    "\n",
    "data = (mp.get_datastream(os.path.join(INPUTS_DIR), classes=classes, ext=\".resized.mp4\")\n",
    " | mp.take(10)\n",
    " | mp.apply('filename','clip',lambda fn: VideoFileClip(fn).fx(vfx.resize, width=112))#newsize=(112,112)))\n",
    " | mp.apply('clip','video',lambda c: np.array(list(c.iter_frames())))\n",
    " | mp.apply('video','video', lambda v: pad_video(select_frames(v, 16)))\n",
    " | mp.iter('clip', close_clip)\n",
    " | mp.delfield('clip')\n",
    " | mp.as_list\n",
    ")"
   ]
  },
  {
   "cell_type": "code",
   "execution_count": 86,
   "metadata": {},
   "outputs": [
    {
     "data": {
      "text/plain": [
       "(10, 16, 112, 112, 3)"
      ]
     },
     "execution_count": 86,
     "metadata": {},
     "output_type": "execute_result"
    }
   ],
   "source": [
    "shots = [x['video'] for x in data if x['class_id'] == 1]\n",
    "shots_arr = np.asarray(shots, dtype=np.float32)\n",
    "shots_arr.shape"
   ]
  },
  {
   "cell_type": "code",
   "execution_count": 87,
   "metadata": {
    "scrolled": true
   },
   "outputs": [],
   "source": [
    "from keras.models import load_model"
   ]
  },
  {
   "cell_type": "code",
   "execution_count": 88,
   "metadata": {},
   "outputs": [],
   "source": [
    "model = load_model(\"X:\\models\\c3d_v3-unfreezed-big-chkpt-09-0.29-0.86.hdf5\")"
   ]
  },
  {
   "cell_type": "code",
   "execution_count": 89,
   "metadata": {},
   "outputs": [],
   "source": [
    "y_pred = model.predict(shots_arr)"
   ]
  },
  {
   "cell_type": "code",
   "execution_count": 90,
   "metadata": {},
   "outputs": [
    {
     "data": {
      "text/plain": [
       "array([[2.0430427e-05],\n",
       "       [7.3875946e-01],\n",
       "       [5.9001303e-01],\n",
       "       [6.6608936e-01],\n",
       "       [6.7096251e-01],\n",
       "       [5.6932247e-01],\n",
       "       [6.8388402e-01],\n",
       "       [7.7740335e-01],\n",
       "       [5.9376562e-01],\n",
       "       [8.0818975e-01]], dtype=float32)"
      ]
     },
     "execution_count": 90,
     "metadata": {},
     "output_type": "execute_result"
    }
   ],
   "source": [
    "y_pred"
   ]
  },
  {
   "cell_type": "code",
   "execution_count": null,
   "metadata": {},
   "outputs": [],
   "source": []
  }
 ],
 "metadata": {
  "kernelspec": {
   "display_name": "Python [conda env:.conda-c3d36] *",
   "language": "python",
   "name": "conda-env-.conda-c3d36-py"
  },
  "language_info": {
   "codemirror_mode": {
    "name": "ipython",
    "version": 3
   },
   "file_extension": ".py",
   "mimetype": "text/x-python",
   "name": "python",
   "nbconvert_exporter": "python",
   "pygments_lexer": "ipython3",
   "version": "3.6.8"
  }
 },
 "nbformat": 4,
 "nbformat_minor": 2
}
