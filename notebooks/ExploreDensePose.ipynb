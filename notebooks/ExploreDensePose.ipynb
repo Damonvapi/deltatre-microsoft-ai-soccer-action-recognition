{
 "cells": [
  {
   "cell_type": "code",
   "execution_count": 1,
   "metadata": {},
   "outputs": [],
   "source": [
    "import argparse\n",
    "import logging\n",
    "import sys\n",
    "import time\n",
    "\n",
    "from tf_pose import common\n",
    "import cv2\n",
    "import numpy as np\n",
    "from tf_pose.estimator import TfPoseEstimator\n",
    "from tf_pose.networks import get_graph_path, model_wh"
   ]
  },
  {
   "cell_type": "code",
   "execution_count": 2,
   "metadata": {},
   "outputs": [],
   "source": [
    "e = TfPoseEstimator(get_graph_path('cmu'), target_size=(432, 368))"
   ]
  },
  {
   "cell_type": "code",
   "execution_count": 4,
   "metadata": {},
   "outputs": [],
   "source": [
    "image = common.read_imgfile('smallplayer.jpg', None, None)"
   ]
  },
  {
   "cell_type": "code",
   "execution_count": 7,
   "metadata": {},
   "outputs": [],
   "source": [
    "import matplotlib.pyplot as plt\n",
    "\n",
    "plt.imshow(image)"
   ]
  },
  {
   "cell_type": "code",
   "execution_count": 8,
   "metadata": {},
   "outputs": [],
   "source": [
    "humans = e.inference(image, resize_to_default=(w > 0 and h > 0), upsample_size=4.0)"
   ]
  },
  {
   "cell_type": "code",
   "execution_count": 9,
   "metadata": {},
   "outputs": [],
   "source": [
    "image = TfPoseEstimator.draw_humans(image, humans, imgcopy=False)"
   ]
  },
  {
   "cell_type": "code",
   "execution_count": 10,
   "metadata": {},
   "outputs": [],
   "source": [
    "humans"
   ]
  },
  {
   "cell_type": "code",
   "execution_count": 11,
   "metadata": {},
   "outputs": [],
   "source": [
    "import matplotlib.pyplot as plt\n",
    "\n",
    "fig = plt.figure(figsize=(14,14))\n",
    "a = fig.add_subplot(2, 2, 1)\n",
    "a.set_title('Result')\n",
    "plt.imshow(cv2.cvtColor(image, cv2.COLOR_BGR2RGB))\n",
    "\n",
    "bgimg = cv2.cvtColor(image.astype(np.uint8), cv2.COLOR_BGR2RGB)\n",
    "bgimg = cv2.resize(bgimg, (e.heatMat.shape[1], e.heatMat.shape[0]), interpolation=cv2.INTER_AREA)\n",
    "\n",
    "a = fig.add_subplot(2, 2, 2)\n",
    "plt.imshow(bgimg, alpha=0.5)\n",
    "tmp = np.amax(e.heatMat[:, :, :-1], axis=2)\n",
    "plt.imshow(tmp, cmap=plt.cm.gray, alpha=0.5)\n",
    "plt.colorbar()\n",
    "\n",
    "tmp2 = e.pafMat.transpose((2, 0, 1))\n",
    "tmp2_odd = np.amax(np.absolute(tmp2[::2, :, :]), axis=0)\n",
    "tmp2_even = np.amax(np.absolute(tmp2[1::2, :, :]), axis=0)\n",
    "\n",
    "a = fig.add_subplot(2, 2, 3)\n",
    "a.set_title('Vectormap-x')\n",
    "plt.imshow(tmp2_odd, cmap=plt.cm.gray, alpha=0.5)\n",
    "plt.colorbar()\n",
    "\n",
    "a = fig.add_subplot(2, 2, 4)\n",
    "a.set_title('Vectormap-y')\n",
    "plt.imshow(tmp2_even, cmap=plt.cm.gray, alpha=0.5)\n",
    "plt.colorbar()\n",
    "plt.show()"
   ]
  }
 ],
 "metadata": {
  "kernelspec": {
   "display_name": "Python 3",
   "language": "python",
   "name": "python3"
  },
  "language_info": {
   "codemirror_mode": {
    "name": "ipython",
    "version": 3
   },
   "file_extension": ".py",
   "mimetype": "text/x-python",
   "name": "python",
   "nbconvert_exporter": "python",
   "pygments_lexer": "ipython3",
   "version": "3.5.5"
  }
 },
 "nbformat": 4,
 "nbformat_minor": 2
}