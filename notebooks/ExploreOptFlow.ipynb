{
 "cells": [
  {
   "cell_type": "markdown",
   "metadata": {},
   "outputs": [],
   "source": [
    "## Visualizing optical flow descriptors\n",
    "\n",
    "First, we need to make sure we can import files from `python` directory in git, so we specify the path to where git repo is cloned"
   ]
  },
  {
   "cell_type": "code",
   "execution_count": 2,
   "metadata": {},
   "outputs": [],
   "source": [
    "import sys\n",
    "sys.path.append('./src')\n",
    "from config import *"
   ]
  },
  {
   "cell_type": "code",
   "execution_count": 3,
   "metadata": {
    "scrolled": true
   },
   "outputs": [],
   "source": [
    "import mPyPl as mp\n",
    "import mPyPl as mp\n",
    "import mPyPl.utils.image as mpui\n",
    "from mpyplx import *\n",
    "from pipe import Pipe\n",
    "from moviepy.editor import *\n",
    "import numpy as np\n",
    "import itertools\n",
    "import cv2\n",
    "import math\n",
    "import matplotlib.pyplot as plt\n",
    "import keras"
   ]
  },
  {
   "cell_type": "code",
   "execution_count": 4,
   "metadata": {},
   "outputs": [],
   "source": [
    "def close_clip(video):\n",
    "    video.reader.close()\n",
    "    video.audio.reader.close_proc()"
   ]
  },
  {
   "cell_type": "markdown",
   "metadata": {},
   "outputs": [],
   "source": [
    "Those are the classes and their id's, so in the code below, index 0 refers to *no-shot*, and 1 to *shot*"
   ]
  },
  {
   "cell_type": "code",
   "execution_count": 5,
   "metadata": {},
   "outputs": [],
   "source": [
    "classes = mp.get_classes(data_dir)\n",
    "print(classes)"
   ]
  },
  {
   "cell_type": "code",
   "execution_count": 22,
   "metadata": {},
   "outputs": [],
   "source": [
    "def flow_to_polar(flow):\n",
    "    return cv2.cartToPolar(flow[..., 0], flow[..., 1])\n",
    "\n",
    "def visualize_flow_hsv(flow):\n",
    "    hsvImg = np.zeros(flow.shape[:-1]+(3,),dtype=np.uint8)\n",
    "    mag, ang = flow_to_polar(flow)\n",
    "    hsvImg[..., 0] = 0.5 * ang * 180 / np.pi\n",
    "    hsvImg[..., 1] = 255\n",
    "    hsvImg[..., 2] = cv2.normalize(mag, None, 0, 255, cv2.NORM_MINMAX)\n",
    "    return cv2.cvtColor(hsvImg, cv2.COLOR_HSV2BGR)\n",
    "\n",
    "# Plot the flow of first 5 frames\n",
    "#flow = first_frame['dflow']\n",
    "#mpui.show_images([visualize_flow_hsv(x) for x in flow[0:5]])\n",
    "\n",
    "def get_flow_descriptor(flow,nbins=100,mag_min=0,mag_max=7):\n",
    "    def descr(f,abins,mbins):\n",
    "        mag, ang = flow_to_polar(f)\n",
    "        h1,bins1 = np.histogram(ang.ravel(),bins=abins)\n",
    "        # print(mag.shape,mbins.shape)\n",
    "        h2,bins2 = np.histogram(mag.ravel(),bins=mbins)\n",
    "        return [[x,y] for x,y in zip(h1,np.log(1+h2))] # we take log of mag histogram to make range smaller\n",
    "    abins = [i*2*math.pi/nbins for i in range(0,nbins+1)]\n",
    "    mbins = np.arange(nbins+1)/nbins*(mag_max-mag_min)+mag_min\n",
    "    return np.array([descr(f,abins=abins,mbins=mbins) for f in flow],dtype=np.float32)\n",
    "\n",
    "def plot_flow_descriptor(video,fd,steps=13,skip=7):\n",
    "    fig,ax = plt.subplots(steps,3)\n",
    "    for i in range(steps):\n",
    "        ax[i,0].imshow(video[i*skip])\n",
    "        ax[i,1].plot(fd[i*skip,:,0])\n",
    "        ax[i,2].plot(fd[i*skip,:,1])\n",
    "    plt.show()\n"
   ]
  },
  {
   "cell_type": "markdown",
   "metadata": {},
   "outputs": [],
   "source": [
    "We load data into dictionary, with index 0 corresponding to no-shot, and 1 - to shot. We load 5 clips for each category, together with their optical flows. And we compute descriptors here."
   ]
  },
  {
   "cell_type": "code",
   "execution_count": 12,
   "metadata": {},
   "outputs": [],
   "source": [
    "data = {}\n",
    "for cls in [0,1]:\n",
    "    data[cls] = (\n",
    "       mp.get_datastream(data_dir,ext=\".resized.mp4\")\n",
    "     | mp.filter('class_id',lambda x: x==cls)\n",
    "     | mp.take(5)\n",
    "     | mp.apply('filename','clip',lambda fn: VideoFileClip(fn).fx(vfx.resize,width=64))\n",
    "     | mp.apply('clip','video',lambda c: np.array(list(c.iter_frames())))\n",
    "     | mp.iter('clip',close_clip)\n",
    "     | mp.apply('filename','dflow',lambda x: np.load(x.replace('.resized.mp4','.optflow.npy')))\n",
    "     | mp.apply_npy('dflow','flowdescr', get_flow_descriptor)\n",
    "     | mp.as_list\n",
    "    )"
   ]
  },
  {
   "cell_type": "markdown",
   "metadata": {},
   "outputs": [],
   "source": [
    "Here are first frames from those 5 videos, and corresponding optical flow. First 2 rows are for no-shot, second two - for shot"
   ]
  },
  {
   "cell_type": "code",
   "execution_count": 14,
   "metadata": {},
   "outputs": [],
   "source": [
    "mpui.show_images([x['video'][0] for x in data[0]])\n",
    "mpui.show_images([visualize_flow_hsv(x['dflow'][0]) for x in data[0]])\n",
    "mpui.show_images([x['video'][0] for x in data[1]])\n",
    "mpui.show_images([visualize_flow_hsv(x['dflow'][0]) for x in data[1]])"
   ]
  },
  {
   "cell_type": "markdown",
   "metadata": {},
   "outputs": [],
   "source": [
    "We plot optical flow descriptors for several frames in the video. Indices are as follows: `data[<class id>][<frame no>]`."
   ]
  },
  {
   "cell_type": "code",
   "execution_count": 24,
   "metadata": {},
   "outputs": [],
   "source": [
    "plot_flow_descriptor(data[0][2]['video'],data[0][2]['flowdescr'],steps=7,skip=10)"
   ]
  },
  {
   "cell_type": "code",
   "execution_count": 26,
   "metadata": {},
   "outputs": [],
   "source": [
    "plot_flow_descriptor(data[1][2]['video'],data[1][2]['flowdescr'],steps=7,skip=10)"
   ]
  },
  {
   "cell_type": "code",
   "execution_count": null,
   "metadata": {},
   "outputs": [],
   "source": []
  }
 ],
 "metadata": {
  "kernelspec": {
   "display_name": "Python 3",
   "language": "python",
   "name": "python3"
  },
  "language_info": {
   "codemirror_mode": {
    "name": "ipython",
    "version": 3
   },
   "file_extension": ".py",
   "mimetype": "text/x-python",
   "name": "python",
   "nbconvert_exporter": "python",
   "pygments_lexer": "ipython3",
   "version": "3.6.5"
  }
 },
 "nbformat": 4,
 "nbformat_minor": 2
}