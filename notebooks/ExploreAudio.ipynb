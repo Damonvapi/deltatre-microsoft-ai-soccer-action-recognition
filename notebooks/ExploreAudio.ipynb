{
 "cells": [
  {
   "cell_type": "markdown",
   "metadata": {},
   "outputs": [],
   "source": [
    "## Exploring audio features in D3 Project"
   ]
  },
  {
   "cell_type": "code",
   "execution_count": 1,
   "metadata": {},
   "outputs": [],
   "source": [
    "import sys\n",
    "sys.path.append('./src')"
   ]
  },
  {
   "cell_type": "code",
   "execution_count": 2,
   "metadata": {},
   "outputs": [],
   "source": [
    "from config import *\n",
    "\n",
    "import mPyPl as mp\n",
    "import mPyPl.utils.image as mpui\n",
    "from mpyplx import *\n",
    "from pipe import Pipe\n",
    "from moviepy.editor import *\n",
    "import numpy as np\n",
    "import itertools\n",
    "import cv2\n",
    "import math\n",
    "import matplotlib.pyplot as plt"
   ]
  },
  {
   "cell_type": "markdown",
   "metadata": {},
   "outputs": [],
   "source": [
    "Load all audio features and normalize them"
   ]
  },
  {
   "cell_type": "code",
   "execution_count": 3,
   "metadata": {},
   "outputs": [],
   "source": [
    "test_names = (\n",
    "   from_json(os.path.join(source_dir,'matches.json'))\n",
    " | mp.where(lambda x: 'Test' in x.keys() and int(x['Test'])>0)\n",
    " | mp.apply(['Id','Half'],'pattern',lambda x: \"{}_{}_\".format(x[0],x[1]))\n",
    " | mp.select_field('pattern')\n",
    " | mp.as_list)\n",
    "\n",
    "classes = mp.get_classes(data_dir)\n",
    "\n",
    "data = (\n",
    " mp.get_datastream(data_dir,ext=\".resized.mp4\",classes=classes)\n",
    " | datasplit_by_pattern(test_pattern=test_names)\n",
    " | stratify_sample_tt(shuffle=True)\n",
    " | summary()\n",
    " #| mp.take(2000)\n",
    " #| mp.iter('filename',lambda x: print(\"Processing {}\".format(x)))\n",
    " | mp.apply('filename','aud',lambda x: np.load(x.replace('.resized.mp4','.audiofeatures.npy')))\n",
    " | normalize_npy_value('aud',interval=(0,1))\n",
    " | mp.apply('aud','mean',lambda x: np.mean(x,axis=1))\n",
    " | summary()\n",
    " | mp.as_list\n",
    ")\n",
    "\n",
    "print(\"Using the following classes:\\n%s\" % classes)"
   ]
  },
  {
   "cell_type": "markdown",
   "metadata": {},
   "outputs": [],
   "source": [
    "## Explore sound features"
   ]
  },
  {
   "cell_type": "code",
   "execution_count": 4,
   "metadata": {},
   "outputs": [],
   "source": [
    "f_names = ['zcr','energy','energy_entropy','spectral_centroid','spectral_spread','spectral_entropy','spectral_flux','spectral_rolloff',\n",
    "           'mfcc_1','mfcc_2','mfcc_3','mfcc_4','mfcc_5','mfcc_6','mfcc_7','mfcc_8','mfcc_9','mfcc_10','mfcc_11','mfcc_12','mfcc_13',\n",
    "           'chroma_1','chroma_2','chroma_3','chroma_4','chroma_5','chroma_6','chroma_7','chroma_8','chroma_9','chroma_10','chroma_11','chroma_12',\n",
    "           'chroma_std']"
   ]
  },
  {
   "cell_type": "code",
   "execution_count": 5,
   "metadata": {},
   "outputs": [],
   "source": [
    "fts = data[0]['aud']\n",
    "\n",
    "def plotfeatures(a):\n",
    "    for x in a:\n",
    "        plt.plot(fts[x])\n",
    "        plt.title(f_names[x])\n",
    "        plt.show()\n",
    "        \n",
    "plotfeatures([0,1,2,3,4,5,6])"
   ]
  },
  {
   "cell_type": "markdown",
   "metadata": {},
   "outputs": [],
   "source": [
    "## Compare audio feature means for shots vs. no-shots"
   ]
  },
  {
   "cell_type": "code",
   "execution_count": 6,
   "metadata": {},
   "outputs": [],
   "source": [
    "shots_mean = data | mp.filter('class_id',lambda x:x==2) | mp.select_field('mean') | mp.as_npy\n",
    "no_shots_mean = data | mp.filter('class_id',lambda x:x==1) | mp.select_field('mean') | mp.as_npy\n",
    "print(shots_mean.shape,no_shots_mean.shape)"
   ]
  },
  {
   "cell_type": "code",
   "execution_count": 7,
   "metadata": {},
   "outputs": [],
   "source": [
    "plt.figure(figsize=(15,8))\n",
    "plt.bar(f_names, np.mean(shots_mean,axis=0) - np.mean(no_shots_mean,axis=0))\n",
    "plt.xticks(rotation='vertical', fontsize=15)\n",
    "plt.yticks(fontsize=15)\n",
    "plt.show()"
   ]
  },
  {
   "cell_type": "markdown",
   "metadata": {},
   "outputs": [],
   "source": [
    "## Trying to classify using scikit"
   ]
  },
  {
   "cell_type": "markdown",
   "metadata": {},
   "outputs": [],
   "source": [
    "#### Classify using correct train-test split (by matches) - 2 classes"
   ]
  },
  {
   "cell_type": "code",
   "execution_count": 16,
   "metadata": {},
   "outputs": [],
   "source": [
    "train,test = data | mp.filter('class_id',lambda x:x!=0) | mp.apply('class_id','new_class_id',lambda x:x-1) | mp.make_train_test_split"
   ]
  },
  {
   "cell_type": "code",
   "execution_count": 17,
   "metadata": {},
   "outputs": [],
   "source": [
    "def make_xy(data,field_name_x,field_name_y):\n",
    "    t = data | mp.select_field([field_name_x,field_name_y]) | mp.as_list\n",
    "    u,v = zip(*t)\n",
    "    return list(u),list(v)"
   ]
  },
  {
   "cell_type": "code",
   "execution_count": 10,
   "metadata": {},
   "outputs": [],
   "source": [
    "X_train,Y_train = make_xy(train,'mean','new_class_id')\n",
    "X_test,Y_test = make_xy(test,'mean','new_class_id')"
   ]
  },
  {
   "cell_type": "code",
   "execution_count": 0,
   "metadata": {},
   "outputs": [],
   "source": [
    "from sklearn import metrics\n",
    "from sklearn import tree, ensemble\n",
    "\n",
    "\n",
    "# expects flattened data going in\n",
    "def ID3(xtr,xte,ytr,yte, title=\"confusion\"):\n",
    "    print(title)\n",
    "    #classifier = tree.DecisionTreeClassifier()\n",
    "    classifier = ensemble.RandomForestClassifier()\n",
    "    clf = classifier.fit(xtr, ytr)\n",
    "    p = clf.predict(xte)\n",
    "    print(\n",
    "        metrics.classification_report(\n",
    "            yte, \n",
    "            p\n",
    "        ))\n",
    "    print(metrics.confusion_matrix(yte, p))\n",
    "    #plotConfusion(yte, p, title=title)\n",
    "    return p, clf\n",
    "\n"
   ]
  },
  {
   "cell_type": "code",
   "execution_count": 12,
   "metadata": {},
   "outputs": [],
   "source": [
    "ID3(X_train, X_test, Y_train, Y_test)"
   ]
  },
  {
   "cell_type": "markdown",
   "metadata": {},
   "outputs": [],
   "source": [
    "#### Classify using correct split -- 3 classes"
   ]
  },
  {
   "cell_type": "code",
   "execution_count": 0,
   "metadata": {},
   "outputs": [],
   "source": [
    "train,test = data | mp.make_train_test_split\n",
    "X_train,Y_train = make_xy(train,'mean','class_id')\n",
    "X_test,Y_test = make_xy(test,'mean','class_id')"
   ]
  },
  {
   "cell_type": "code",
   "execution_count": 14,
   "metadata": {},
   "outputs": [],
   "source": [
    "ID3(X_train, X_test, Y_train, Y_test)"
   ]
  },
  {
   "cell_type": "markdown",
   "metadata": {},
   "outputs": [],
   "source": [
    "#### Classify using random split - 3 classes"
   ]
  },
  {
   "cell_type": "code",
   "execution_count": 15,
   "metadata": {},
   "outputs": [],
   "source": [
    "X,Y = make_xy(data,'mean','class_id')"
   ]
  },
  {
   "cell_type": "code",
   "execution_count": 171,
   "metadata": {},
   "outputs": [],
   "source": [
    "from sklearn.model_selection import train_test_split\n",
    "X_train, X_val, y_train, y_val = train_test_split(X, Y, random_state=0)"
   ]
  },
  {
   "cell_type": "code",
   "execution_count": 172,
   "metadata": {},
   "outputs": [],
   "source": [
    "ID3(X_train, X_val, y_train, y_val)"
   ]
  },
  {
   "cell_type": "code",
   "execution_count": null,
   "metadata": {},
   "outputs": [],
   "source": []
  }
 ],
 "metadata": {
  "kernelspec": {
   "display_name": "Python 3",
   "language": "python",
   "name": "python3"
  },
  "language_info": {
   "codemirror_mode": {
    "name": "ipython",
    "version": 3
   },
   "file_extension": ".py",
   "mimetype": "text/x-python",
   "name": "python",
   "nbconvert_exporter": "python",
   "pygments_lexer": "ipython3",
   "version": "3.6.5"
  }
 },
 "nbformat": 4,
 "nbformat_minor": 2
}